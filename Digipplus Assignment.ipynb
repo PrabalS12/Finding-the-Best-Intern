{
 "cells": [
  {
   "cell_type": "code",
   "execution_count": 1,
   "id": "f7ad461d",
   "metadata": {},
   "outputs": [],
   "source": [
    "import numpy as np\n",
    "import pandas as pd\n",
    "import matplotlib.pyplot as plt\n",
    "import seaborn as sns"
   ]
  },
  {
   "cell_type": "code",
   "execution_count": 31,
   "id": "077b0eeb",
   "metadata": {},
   "outputs": [],
   "source": [
    "app_data = pd.read_csv('/Users/prabalsingh/Downloads/Applications_for_Machine_Learning_internship_edited.xlsx - Sheet1.csv')"
   ]
  },
  {
   "cell_type": "code",
   "execution_count": 32,
   "id": "df73c5ef",
   "metadata": {},
   "outputs": [
    {
     "data": {
      "text/html": [
       "<div>\n",
       "<style scoped>\n",
       "    .dataframe tbody tr th:only-of-type {\n",
       "        vertical-align: middle;\n",
       "    }\n",
       "\n",
       "    .dataframe tbody tr th {\n",
       "        vertical-align: top;\n",
       "    }\n",
       "\n",
       "    .dataframe thead th {\n",
       "        text-align: right;\n",
       "    }\n",
       "</style>\n",
       "<table border=\"1\" class=\"dataframe\">\n",
       "  <thead>\n",
       "    <tr style=\"text-align: right;\">\n",
       "      <th></th>\n",
       "      <th>Name</th>\n",
       "      <th>Python (out of 3)</th>\n",
       "      <th>Machine Learning (out of 3)</th>\n",
       "      <th>Natural Language Processing (NLP) (out of 3)</th>\n",
       "      <th>Deep Learning (out of 3)</th>\n",
       "      <th>Other skills</th>\n",
       "      <th>Are you available for 3 months, starting immediately, for a full-time work from home internship?</th>\n",
       "      <th>Degree</th>\n",
       "      <th>Stream</th>\n",
       "      <th>Current Year Of Graduation</th>\n",
       "      <th>Performance_PG</th>\n",
       "      <th>Performance_UG</th>\n",
       "      <th>Performance_12</th>\n",
       "      <th>Performance_10</th>\n",
       "    </tr>\n",
       "  </thead>\n",
       "  <tbody>\n",
       "    <tr>\n",
       "      <th>0</th>\n",
       "      <td>NaN</td>\n",
       "      <td>1</td>\n",
       "      <td>0</td>\n",
       "      <td>0</td>\n",
       "      <td>1</td>\n",
       "      <td>MS-Excel, MS-Word, Deep Learning, MySQL, Pytho...</td>\n",
       "      <td>Yes, I am available for 3 months starting imme...</td>\n",
       "      <td>Bachelor of Vocation (B.Voc.)</td>\n",
       "      <td>Software Engineering</td>\n",
       "      <td>2021</td>\n",
       "      <td>NaN</td>\n",
       "      <td>6.50/7</td>\n",
       "      <td>NaN</td>\n",
       "      <td>NaN</td>\n",
       "    </tr>\n",
       "    <tr>\n",
       "      <th>1</th>\n",
       "      <td>NaN</td>\n",
       "      <td>2</td>\n",
       "      <td>0</td>\n",
       "      <td>0</td>\n",
       "      <td>0</td>\n",
       "      <td>Git, GitHub, Linux, Adobe After Effects, Adobe...</td>\n",
       "      <td>Yes, I am available for 3 months starting imme...</td>\n",
       "      <td>B.Tech</td>\n",
       "      <td>Computer Science &amp; Engineering</td>\n",
       "      <td>2024</td>\n",
       "      <td>NaN</td>\n",
       "      <td>8.90/10</td>\n",
       "      <td>NaN</td>\n",
       "      <td>NaN</td>\n",
       "    </tr>\n",
       "    <tr>\n",
       "      <th>2</th>\n",
       "      <td>NaN</td>\n",
       "      <td>2</td>\n",
       "      <td>2</td>\n",
       "      <td>0</td>\n",
       "      <td>0</td>\n",
       "      <td>Amazon Web Services (AWS), Docker, Hadoop, MS-...</td>\n",
       "      <td>Yes, I am available for 3 months starting imme...</td>\n",
       "      <td>Master of Science (M.S.)</td>\n",
       "      <td>Data Science And Analytics</td>\n",
       "      <td>2022</td>\n",
       "      <td>NaN</td>\n",
       "      <td>NaN</td>\n",
       "      <td>NaN</td>\n",
       "      <td>NaN</td>\n",
       "    </tr>\n",
       "    <tr>\n",
       "      <th>3</th>\n",
       "      <td>NaN</td>\n",
       "      <td>3</td>\n",
       "      <td>2</td>\n",
       "      <td>2</td>\n",
       "      <td>0</td>\n",
       "      <td>Adobe XD, BIG DATA ANALYTICS, Canva, Data Anal...</td>\n",
       "      <td>Yes, I am available for 3 months starting imme...</td>\n",
       "      <td>Bachelor of Engineering (B.E)</td>\n",
       "      <td>NaN</td>\n",
       "      <td>2024</td>\n",
       "      <td>NaN</td>\n",
       "      <td>NaN</td>\n",
       "      <td>85.60/85.60</td>\n",
       "      <td>10.00/10.00</td>\n",
       "    </tr>\n",
       "    <tr>\n",
       "      <th>4</th>\n",
       "      <td>NaN</td>\n",
       "      <td>2</td>\n",
       "      <td>2</td>\n",
       "      <td>0</td>\n",
       "      <td>0</td>\n",
       "      <td>C++ Programming, Data Science, Machine Learnin...</td>\n",
       "      <td>Yes, I am available for 3 months starting imme...</td>\n",
       "      <td>B.Tech</td>\n",
       "      <td>Computer Science</td>\n",
       "      <td>2023</td>\n",
       "      <td>NaN</td>\n",
       "      <td>8.10/10</td>\n",
       "      <td>93.40/93.40</td>\n",
       "      <td>10.00/10.00</td>\n",
       "    </tr>\n",
       "    <tr>\n",
       "      <th>...</th>\n",
       "      <td>...</td>\n",
       "      <td>...</td>\n",
       "      <td>...</td>\n",
       "      <td>...</td>\n",
       "      <td>...</td>\n",
       "      <td>...</td>\n",
       "      <td>...</td>\n",
       "      <td>...</td>\n",
       "      <td>...</td>\n",
       "      <td>...</td>\n",
       "      <td>...</td>\n",
       "      <td>...</td>\n",
       "      <td>...</td>\n",
       "      <td>...</td>\n",
       "    </tr>\n",
       "    <tr>\n",
       "      <th>1131</th>\n",
       "      <td>NaN</td>\n",
       "      <td>2</td>\n",
       "      <td>2</td>\n",
       "      <td>0</td>\n",
       "      <td>2</td>\n",
       "      <td>Data Analytics, Amazon Web Services (AWS), Dat...</td>\n",
       "      <td>Yes, I am available for 3 months starting imme...</td>\n",
       "      <td>B.Tech</td>\n",
       "      <td>Mechanical Engineering</td>\n",
       "      <td>2021</td>\n",
       "      <td>NaN</td>\n",
       "      <td>NaN</td>\n",
       "      <td>NaN</td>\n",
       "      <td>NaN</td>\n",
       "    </tr>\n",
       "    <tr>\n",
       "      <th>1132</th>\n",
       "      <td>NaN</td>\n",
       "      <td>3</td>\n",
       "      <td>3</td>\n",
       "      <td>2</td>\n",
       "      <td>3</td>\n",
       "      <td>Deep Learning, Docker, HTML, MS-Office, Machin...</td>\n",
       "      <td>Yes, I am available for 3 months starting imme...</td>\n",
       "      <td>B.Tech</td>\n",
       "      <td>Computer Science &amp; Engineering</td>\n",
       "      <td>2024</td>\n",
       "      <td>NaN</td>\n",
       "      <td>NaN</td>\n",
       "      <td>NaN</td>\n",
       "      <td>NaN</td>\n",
       "    </tr>\n",
       "    <tr>\n",
       "      <th>1133</th>\n",
       "      <td>NaN</td>\n",
       "      <td>3</td>\n",
       "      <td>1</td>\n",
       "      <td>3</td>\n",
       "      <td>3</td>\n",
       "      <td>Data Science, Deep Learning, English Proficien...</td>\n",
       "      <td>Yes, I am available for 3 months starting imme...</td>\n",
       "      <td>B.Tech</td>\n",
       "      <td>Electronics and Communication</td>\n",
       "      <td>2025</td>\n",
       "      <td>NaN</td>\n",
       "      <td>8.77/10</td>\n",
       "      <td>9.40/9.40</td>\n",
       "      <td>NaN</td>\n",
       "    </tr>\n",
       "    <tr>\n",
       "      <th>1134</th>\n",
       "      <td>NaN</td>\n",
       "      <td>2</td>\n",
       "      <td>1</td>\n",
       "      <td>0</td>\n",
       "      <td>0</td>\n",
       "      <td>Python, Data Analytics, MS-Excel, Machine Lear...</td>\n",
       "      <td>Yes, I am available for 3 months starting imme...</td>\n",
       "      <td>B.Tech</td>\n",
       "      <td>Computer Science</td>\n",
       "      <td>2024</td>\n",
       "      <td>NaN</td>\n",
       "      <td>7.90/10</td>\n",
       "      <td>90.00/90.00</td>\n",
       "      <td>NaN</td>\n",
       "    </tr>\n",
       "    <tr>\n",
       "      <th>1135</th>\n",
       "      <td>NaN</td>\n",
       "      <td>2</td>\n",
       "      <td>0</td>\n",
       "      <td>0</td>\n",
       "      <td>0</td>\n",
       "      <td>C++ Programming, Database Management System (D...</td>\n",
       "      <td>Yes, I am available for 3 months starting imme...</td>\n",
       "      <td>B.Tech</td>\n",
       "      <td>Engineering</td>\n",
       "      <td>2024</td>\n",
       "      <td>NaN</td>\n",
       "      <td>NaN</td>\n",
       "      <td>NaN</td>\n",
       "      <td>NaN</td>\n",
       "    </tr>\n",
       "  </tbody>\n",
       "</table>\n",
       "<p>1136 rows × 14 columns</p>\n",
       "</div>"
      ],
      "text/plain": [
       "      Name  Python (out of 3)  Machine Learning (out of 3)  \\\n",
       "0      NaN                  1                            0   \n",
       "1      NaN                  2                            0   \n",
       "2      NaN                  2                            2   \n",
       "3      NaN                  3                            2   \n",
       "4      NaN                  2                            2   \n",
       "...    ...                ...                          ...   \n",
       "1131   NaN                  2                            2   \n",
       "1132   NaN                  3                            3   \n",
       "1133   NaN                  3                            1   \n",
       "1134   NaN                  2                            1   \n",
       "1135   NaN                  2                            0   \n",
       "\n",
       "      Natural Language Processing (NLP) (out of 3)  Deep Learning (out of 3)  \\\n",
       "0                                                0                         1   \n",
       "1                                                0                         0   \n",
       "2                                                0                         0   \n",
       "3                                                2                         0   \n",
       "4                                                0                         0   \n",
       "...                                            ...                       ...   \n",
       "1131                                             0                         2   \n",
       "1132                                             2                         3   \n",
       "1133                                             3                         3   \n",
       "1134                                             0                         0   \n",
       "1135                                             0                         0   \n",
       "\n",
       "                                           Other skills  \\\n",
       "0     MS-Excel, MS-Word, Deep Learning, MySQL, Pytho...   \n",
       "1     Git, GitHub, Linux, Adobe After Effects, Adobe...   \n",
       "2     Amazon Web Services (AWS), Docker, Hadoop, MS-...   \n",
       "3     Adobe XD, BIG DATA ANALYTICS, Canva, Data Anal...   \n",
       "4     C++ Programming, Data Science, Machine Learnin...   \n",
       "...                                                 ...   \n",
       "1131  Data Analytics, Amazon Web Services (AWS), Dat...   \n",
       "1132  Deep Learning, Docker, HTML, MS-Office, Machin...   \n",
       "1133  Data Science, Deep Learning, English Proficien...   \n",
       "1134  Python, Data Analytics, MS-Excel, Machine Lear...   \n",
       "1135  C++ Programming, Database Management System (D...   \n",
       "\n",
       "     Are you available for 3 months, starting immediately, for a full-time work from home internship?   \\\n",
       "0     Yes, I am available for 3 months starting imme...                                                  \n",
       "1     Yes, I am available for 3 months starting imme...                                                  \n",
       "2     Yes, I am available for 3 months starting imme...                                                  \n",
       "3     Yes, I am available for 3 months starting imme...                                                  \n",
       "4     Yes, I am available for 3 months starting imme...                                                  \n",
       "...                                                 ...                                                  \n",
       "1131  Yes, I am available for 3 months starting imme...                                                  \n",
       "1132  Yes, I am available for 3 months starting imme...                                                  \n",
       "1133  Yes, I am available for 3 months starting imme...                                                  \n",
       "1134  Yes, I am available for 3 months starting imme...                                                  \n",
       "1135  Yes, I am available for 3 months starting imme...                                                  \n",
       "\n",
       "                             Degree                          Stream  \\\n",
       "0     Bachelor of Vocation (B.Voc.)            Software Engineering   \n",
       "1                            B.Tech  Computer Science & Engineering   \n",
       "2          Master of Science (M.S.)      Data Science And Analytics   \n",
       "3     Bachelor of Engineering (B.E)                             NaN   \n",
       "4                            B.Tech                Computer Science   \n",
       "...                             ...                             ...   \n",
       "1131                         B.Tech          Mechanical Engineering   \n",
       "1132                         B.Tech  Computer Science & Engineering   \n",
       "1133                         B.Tech   Electronics and Communication   \n",
       "1134                         B.Tech                Computer Science   \n",
       "1135                         B.Tech                     Engineering   \n",
       "\n",
       "      Current Year Of Graduation Performance_PG Performance_UG Performance_12  \\\n",
       "0                           2021            NaN         6.50/7            NaN   \n",
       "1                           2024            NaN        8.90/10            NaN   \n",
       "2                           2022            NaN            NaN            NaN   \n",
       "3                           2024            NaN            NaN    85.60/85.60   \n",
       "4                           2023            NaN        8.10/10    93.40/93.40   \n",
       "...                          ...            ...            ...            ...   \n",
       "1131                        2021            NaN            NaN            NaN   \n",
       "1132                        2024            NaN            NaN            NaN   \n",
       "1133                        2025            NaN        8.77/10      9.40/9.40   \n",
       "1134                        2024            NaN        7.90/10    90.00/90.00   \n",
       "1135                        2024            NaN            NaN            NaN   \n",
       "\n",
       "     Performance_10  \n",
       "0               NaN  \n",
       "1               NaN  \n",
       "2               NaN  \n",
       "3       10.00/10.00  \n",
       "4       10.00/10.00  \n",
       "...             ...  \n",
       "1131            NaN  \n",
       "1132            NaN  \n",
       "1133            NaN  \n",
       "1134            NaN  \n",
       "1135            NaN  \n",
       "\n",
       "[1136 rows x 14 columns]"
      ]
     },
     "execution_count": 32,
     "metadata": {},
     "output_type": "execute_result"
    }
   ],
   "source": [
    "app_data"
   ]
  },
  {
   "cell_type": "code",
   "execution_count": 33,
   "id": "083b061e",
   "metadata": {},
   "outputs": [
    {
     "data": {
      "text/plain": [
       "Index(['Name', 'Python (out of 3)', 'Machine Learning (out of 3)',\n",
       "       'Natural Language Processing (NLP) (out of 3)',\n",
       "       'Deep Learning (out of 3)', 'Other skills',\n",
       "       'Are you available for 3 months, starting immediately, for a full-time work from home internship? ',\n",
       "       'Degree', 'Stream', 'Current Year Of Graduation', 'Performance_PG',\n",
       "       'Performance_UG', 'Performance_12', 'Performance_10'],\n",
       "      dtype='object')"
      ]
     },
     "execution_count": 33,
     "metadata": {},
     "output_type": "execute_result"
    }
   ],
   "source": [
    "app_data.columns"
   ]
  },
  {
   "cell_type": "code",
   "execution_count": 34,
   "id": "8d0884c2",
   "metadata": {},
   "outputs": [],
   "source": [
    "app_data.drop(columns=['Name'],inplace=True)"
   ]
  },
  {
   "cell_type": "markdown",
   "id": "d41e52eb",
   "metadata": {},
   "source": [
    "# Data information"
   ]
  },
  {
   "cell_type": "code",
   "execution_count": 35,
   "id": "d5f01716",
   "metadata": {},
   "outputs": [
    {
     "name": "stdout",
     "output_type": "stream",
     "text": [
      "<class 'pandas.core.frame.DataFrame'>\n",
      "RangeIndex: 1136 entries, 0 to 1135\n",
      "Data columns (total 13 columns):\n",
      " #   Column                                                                                             Non-Null Count  Dtype \n",
      "---  ------                                                                                             --------------  ----- \n",
      " 0   Python (out of 3)                                                                                  1136 non-null   int64 \n",
      " 1   Machine Learning (out of 3)                                                                        1136 non-null   int64 \n",
      " 2   Natural Language Processing (NLP) (out of 3)                                                       1136 non-null   int64 \n",
      " 3   Deep Learning (out of 3)                                                                           1136 non-null   int64 \n",
      " 4   Other skills                                                                                       1070 non-null   object\n",
      " 5   Are you available for 3 months, starting immediately, for a full-time work from home internship?   1136 non-null   object\n",
      " 6   Degree                                                                                             1093 non-null   object\n",
      " 7   Stream                                                                                             966 non-null    object\n",
      " 8   Current Year Of Graduation                                                                         1136 non-null   int64 \n",
      " 9   Performance_PG                                                                                     184 non-null    object\n",
      " 10  Performance_UG                                                                                     482 non-null    object\n",
      " 11  Performance_12                                                                                     493 non-null    object\n",
      " 12  Performance_10                                                                                     427 non-null    object\n",
      "dtypes: int64(5), object(8)\n",
      "memory usage: 115.5+ KB\n"
     ]
    }
   ],
   "source": [
    "app_data.info()"
   ]
  },
  {
   "cell_type": "markdown",
   "id": "0ccff35c",
   "metadata": {},
   "source": [
    "# Technical Skills"
   ]
  },
  {
   "cell_type": "markdown",
   "id": "88cfbfa6",
   "metadata": {},
   "source": [
    "<b>Ratings of the required skills listed by the company.<br></b>\n",
    "1. Python is isolated, since its a programming language and could be learnt by a candidate for multiple reasons other than just working with data, hence to not impact the ratings average across the ML/NLP/DL field, it is considered separately.<br>\n",
    "2. The \"AI_rating_avg\" is the ratings average across the ratings attributed for Machine Learning, Natural Language Processing and Deep Learning. (Self attributed? Not given. But most likely!)<br>\n",
    "3. Since all of these are technical skills required by the company, without any preference to any of them mentioned. We can't take Weighted Ratings Average which could've improved results further.<br>\n"
   ]
  },
  {
   "cell_type": "code",
   "execution_count": 36,
   "id": "2963a747",
   "metadata": {
    "scrolled": false
   },
   "outputs": [
    {
     "data": {
      "text/plain": [
       "<AxesSubplot:>"
      ]
     },
     "execution_count": 36,
     "metadata": {},
     "output_type": "execute_result"
    },
    {
     "data": {
      "image/png": "[encoded data removed]",
      "text/plain": [
       "<Figure size 640x480 with 2 Axes>"
      ]
     },
     "metadata": {},
     "output_type": "display_data"
    }
   ],
   "source": [
    "sns.heatmap(app_data.iloc[:,1:4].corr(),annot=True,fmt='.3f')"
   ]
  },
  {
   "cell_type": "markdown",
   "id": "5d63b51f",
   "metadata": {},
   "source": [
    "<i>The above shows a very sensible positive correlation between the above skills. Machine Learning, Deep Learning, NLP are often successively(progressively) learned, as foundations of ML are pre-requisite for either, and understanding of Deep Learning is essential for NLP.</i> "
   ]
  },
  {
   "cell_type": "code",
   "execution_count": 37,
   "id": "39a10262",
   "metadata": {},
   "outputs": [],
   "source": [
    "# makes sense to average out the following\n",
    "\n",
    "app_data['AI_rating_avg'] = np.round(app_data.iloc[:,1:4].sum(axis=1)/9,3)"
   ]
  },
  {
   "cell_type": "code",
   "execution_count": 38,
   "id": "11c59034",
   "metadata": {},
   "outputs": [],
   "source": [
    "to_del = list(app_data.iloc[:,1:4].columns)\n",
    "app_data.drop(columns=to_del,inplace=True)"
   ]
  },
  {
   "cell_type": "code",
   "execution_count": 40,
   "id": "f8c53c02",
   "metadata": {},
   "outputs": [
    {
     "data": {
      "text/plain": [
       "<AxesSubplot:xlabel='Python (out of 3)', ylabel='AI_rating_avg'>"
      ]
     },
     "execution_count": 40,
     "metadata": {},
     "output_type": "execute_result"
    },
    {
     "data": {
      "image/png": "[encoded data removed]",
      "text/plain": [
       "<Figure size 640x480 with 1 Axes>"
      ]
     },
     "metadata": {},
     "output_type": "display_data"
    }
   ],
   "source": [
    "sns.scatterplot(x=app_data['Python (out of 3)'],y=app_data['AI_rating_avg'])"
   ]
  },
  {
   "cell_type": "markdown",
   "id": "eda5546e",
   "metadata": {},
   "source": [
    "<b> Exploring the other skills section - as it includes other important technical skills </b>"
   ]
  },
  {
   "cell_type": "code",
   "execution_count": 55,
   "id": "d4b94944",
   "metadata": {},
   "outputs": [],
   "source": [
    "from collections import Counter\n",
    "other_skills_count = Counter()\n",
    "for i in app_data['Other skills']:\n",
    "    other_skills_count.update(str(i).split(', '))"
   ]
  },
  {
   "cell_type": "code",
   "execution_count": 67,
   "id": "2c0eddb4",
   "metadata": {},
   "outputs": [
    {
     "data": {
      "text/plain": [
       "dict_keys(['MS-Excel', 'MS-Word', 'Deep Learning', 'MySQL', 'Python', 'SQL', 'Git', 'GitHub', 'Linux', 'Adobe After Effects', 'Adobe Illustrator', 'Adobe Photoshop', 'Amazon Web Services (AWS)', 'AngularJS', 'C Programming', 'C++ Programming', 'CSS', 'Data Analytics', 'Data Science', 'Data Structures', 'Database Management System (DBMS)', 'Docker', 'Figma', 'Firebase', 'Google Cloud Computing', 'HTML', 'Java', 'JavaScript', 'MongoDB', 'Node.js', 'Postman', 'REST API', 'ReactJS', 'Selenium', 'TypeScript', 'Database Testing', 'Hadoop', 'Machine Learning', 'Power BI', 'Adobe XD', 'BIG DATA ANALYTICS', 'Canva', 'MS-PowerPoint', 'Natural Language Processing (NLP)', 'Tableau', 'Computer Vision', 'R Programming', 'Statistical Modeling', 'Artificial Intelligence', 'Neural Networks', 'Google Analytics', 'Atmel AVR', 'Raspberry Pi', 'Artificial intelligence', 'Android', 'Cloud Computing', 'German Proficiency (Spoken)', 'SQLite', 'Visual Basic (VB)', 'English Proficiency (Written)', 'Creative Writing', 'English Proficiency (Spoken)', 'MS SQL Server', 'MS-Office', 'UI & UX Design', 'Video Editing', 'Apache', 'Blogging', 'Search Engine Optimization (SEO)', 'Social Media Marketing', 'User Interface (UI) Development', 'Software Testing', 'Unix', 'Computer Networks', 'Flask', 'Image Processing', 'Microsoft Azure', 'Chemistry', 'Mathematics', 'Physics', 'Unity 3D', 'Algorithms', 'Blender 3D', 'C#.NET', 'Django', 'Unity Engine', 'Accounting', 'Statistics', 'Computer Networking', 'Blockchain', 'Flutter', 'Internet of Things (IoT)', 'PHP', 'AutoCAD', 'Project Management', 'SPSS', 'Robotic Process Automation (RPA)', 'GNU Octave', 'NoSQL', 'OpenCV', 'Amazon Web Server (AWS)', 'C#', 'Business Analysis', 'Financial literacy', 'Research and Analytics', 'Financial Modeling', 'Investing', 'Stock Trading', 'Tally', 'nan', 'Malayalam Proficiency (Spoken)', 'Malayalam Proficiency (Written)', 'Hindi Proficiency (Spoken)', 'Hindi Proficiency (Written)', 'JavaFX', 'Tamil Proficiency (Spoken)', 'French Proficiency (spoken)', 'WordPress', 'Digital Marketing', 'Search Engine Marketing (SEM)', 'Online Teaching', 'Teaching', 'Arduino', 'Embedded Systems', 'VLSI', 'Spring MVC', 'Product Lifecycle Management(PLM)', 'Email Marketing', 'Facebook Marketing', 'Apache Kafka', 'Content Writing', 'ARM Microcontroller', 'Effective Communication', 'Microsoft Visual Studio', '.NET', 'Circuit Design', 'Eclipse (IDE)', 'Engineering Drawing', 'MEAN/MERN Stack', 'PCB Design', 'PLC SCADA', 'Robotics', 'Swing (Java)', 'DevOps', 'React Native', 'Ruby on Rails', 'MATLAB', 'Jira', 'Manual Testing', 'Kotlin', 'Bootstrap', 'Digital Signal Processing', 'LaTeX', 'Video Making', 'PCB Soldering', 'Express.js', 'Redux', 'Next.js', 'Solidity', 'Unreal Engine', 'ASP.NET', 'XML', 'Angular 2.0', 'Salesforce', 'PostgreSQL', 'Telugu Proficiency (Spoken)', 'Digital Advertising', 'Digital Art', 'Quality Assurance/Quality Control (QA/QC)', 'Analog And Digital Circuits', 'Microsoft PowerApps', 'Verilog', 'jQuery', 'Biology', 'Subject Matter Expert (SME)', 'Client Relationship', 'Git Bash', 'JSP', 'Servlets', 'Event Management', 'CAD', 'Design Thinking', 'Kubernetes', 'Google Suite (G Suite)', 'Google Workspace', 'Painting', 'Sketching', 'VS Code', 'Business Research', 'FastAPI', 'VHDL', 'Adobe Premiere Pro', 'Tailwind CSS', 'Time Management', 'Photography', 'Oracle', 'Catia', 'SolidWorks', 'Webflow', 'Odoo', 'ERP Implementation and Deployment', 'Enterprise Resource Planning(ERP)', 'Adobe Photoshop Lightroom CC', 'Ethereum', 'Sketch', 'American English', 'Git SVN', 'Marathi Proficiency(Spoken)', 'Marathi Proficiency(Written)', 'web3.js', 'LabVIEW', 'SAP', 'Angular 7.0', 'UiPath', 'Linear Programming', 'CCNA', 'JSON', 'Jenkins', 'Spanish Proficiency(Spoken)', 'Spanish Proficiency(Written)', 'Ethical Hacking', 'Music', 'Guitar', 'Interpersonal Skills', 'Heroku', 'FL Studio (formerly known as FruityLoops)', 'Content Marketing', 'Facebook Ads', 'Marketing Strategies ', 'Google AdWords', 'Product Management', 'Report Writing', 'Marketing Campaigns ', 'Operations', 'Copywriting', 'ArcGIS', 'Map Study', 'Web Application Security', 'Autodesk Inventor', 'Inkscape', 'AJAX', 'SCSS', 'Shell Scripting', 'Vue Js', 'iOS', 'CI/CD', 'Economics', 'Korean Proficiency (Spoken)', 'Korean Proficiency (Written)', 'STATA', 'GUI Testing', 'Bengali Proficiency (Spoken)', 'Virtualization', 'Assamese Proficiency (Spoken)', 'Assamese Proficiency (Written)', 'Bengali Proficiency (Written)', 'EAGLE', 'LESS', 'Dart', 'Adobe Indesign', 'Wireframing', 'Animation', 'Autodesk Fusion 360', 'Autodesk Revit', 'Hyperledger', 'Xcode', 'HR Analytics', 'Firebase Cloud Messaging', 'Microsoft Project', 'Golang', 'Cloud Firestore', 'Gitlab', 'SAS', 'British English', 'Client Interaction', 'Transcription', 'Translation', 'Model View Controller(MVC)', 'Plc Programming', 'Adobe Dreamweaver', 'Parallel Thinking', 'Adobe Audition', 'Arabic Proficiency (Spoken)', 'Dietetics/Nutrition', 'GIMP', 'Gazebo', 'HelioScope', 'Japanese Proficiency (Spoken)', 'YouTube Ads', 'LARAVEL', 'STAAD.Pro', 'Market Research', 'Bash', 'Hindi Proficiency(Written)', 'Sales', 'Tamil Proficiency (Written)', 'EViews', 'CMS', 'Bodo Proficiency(Written)', 'Dogri Proficiency(Written)', 'Bioinformatics', 'LibreOffice', 'Windows Mobile Application Development', 'Robot Operating System (ROS)', 'CakePHP', 'Hibernate (Java)', 'Rust', 'Instagram Marketing', 'CorelDRAW', 'Proofreading', 'Sass', 'French Proficiency (written)', 'German Proficiency (Written)', 'Elasticsearch', 'Acting technique', 'Dancer MVC Web Framework', 'Voice-over artist', 'Voiceover', 'Terraform', 'Malayalam', 'Sanskrit Proficiency (written)', 'Kannada Proficiency (Spoken)', 'Kannada Proficiency (Written)', 'Audio Editing', 'Sanskrit Proficiency (spoken)', 'Vector Dynamics'])"
      ]
     },
     "execution_count": 67,
     "metadata": {},
     "output_type": "execute_result"
    }
   ],
   "source": [
    "other_skills_count.keys()"
   ]
  },
  {
   "cell_type": "markdown",
   "id": "d4b64bb6",
   "metadata": {},
   "source": [
    "<b>alternative method: to generate the relevant sub-groups of skills from the other skills feature can result in informed language model response, that can be fine tuned using the relevant parameters of it too.</b>"
   ]
  },
  {
   "cell_type": "code",
   "execution_count": 68,
   "id": "12d3f004",
   "metadata": {
    "scrolled": false
   },
   "outputs": [
    {
     "name": "stdout",
     "output_type": "stream",
     "text": [
      "Collecting openai\n",
      "  Downloading openai-0.27.8-py3-none-any.whl (73 kB)\n",
      "\u001b[2K     \u001b[90m━━━━━━━━━━━━━━━━━━━━━━━━━━━━━━━━━━━━━━━━\u001b[0m \u001b[32m73.6/73.6 kB\u001b[0m \u001b[31m1.2 MB/s\u001b[0m eta \u001b[36m0:00:00\u001b[0ma \u001b[36m0:00:01\u001b[0m\n",
      "\u001b[?25hCollecting aiohttp\n",
      "  Downloading aiohttp-3.8.4-cp39-cp39-macosx_10_9_x86_64.whl (360 kB)\n",
      "\u001b[2K     \u001b[90m━━━━━━━━━━━━━━━━━━━━━━━━━━━━━━━━━━━━━━━\u001b[0m \u001b[32m360.3/360.3 kB\u001b[0m \u001b[31m4.0 MB/s\u001b[0m eta \u001b[36m0:00:00\u001b[0ma \u001b[36m0:00:01\u001b[0m\n",
      "\u001b[?25hRequirement already satisfied: tqdm in /Users/prabalsingh/opt/anaconda3/lib/python3.9/site-packages (from openai) (4.64.1)\n",
      "Requirement already satisfied: requests>=2.20 in /Users/prabalsingh/.local/lib/python3.9/site-packages (from openai) (2.25.1)\n",
      "Requirement already satisfied: urllib3<1.27,>=1.21.1 in /Users/prabalsingh/opt/anaconda3/lib/python3.9/site-packages (from requests>=2.20->openai) (1.26.11)\n",
      "Requirement already satisfied: chardet<5,>=3.0.2 in /Users/prabalsingh/opt/anaconda3/lib/python3.9/site-packages (from requests>=2.20->openai) (4.0.0)\n",
      "Requirement already satisfied: certifi>=2017.4.17 in /Users/prabalsingh/opt/anaconda3/lib/python3.9/site-packages (from requests>=2.20->openai) (2022.9.24)\n",
      "Requirement already satisfied: idna<3,>=2.5 in /Users/prabalsingh/.local/lib/python3.9/site-packages (from requests>=2.20->openai) (2.10)\n",
      "Requirement already satisfied: attrs>=17.3.0 in /Users/prabalsingh/opt/anaconda3/lib/python3.9/site-packages (from aiohttp->openai) (21.4.0)\n",
      "Collecting multidict<7.0,>=4.5\n",
      "  Downloading multidict-6.0.4-cp39-cp39-macosx_10_9_x86_64.whl (29 kB)\n",
      "Collecting async-timeout<5.0,>=4.0.0a3\n",
      "  Downloading async_timeout-4.0.2-py3-none-any.whl (5.8 kB)\n",
      "Collecting frozenlist>=1.1.1\n",
      "  Downloading frozenlist-1.3.3-cp39-cp39-macosx_10_9_x86_64.whl (36 kB)\n",
      "Collecting yarl<2.0,>=1.0\n",
      "  Downloading yarl-1.9.2-cp39-cp39-macosx_10_9_x86_64.whl (65 kB)\n",
      "\u001b[2K     \u001b[90m━━━━━━━━━━━━━━━━━━━━━━━━━━━━━━━━━━━━━━━━\u001b[0m \u001b[32m65.9/65.9 kB\u001b[0m \u001b[31m9.7 MB/s\u001b[0m eta \u001b[36m0:00:00\u001b[0m\n",
      "\u001b[?25hRequirement already satisfied: charset-normalizer<4.0,>=2.0 in /Users/prabalsingh/opt/anaconda3/lib/python3.9/site-packages (from aiohttp->openai) (2.0.4)\n",
      "Collecting aiosignal>=1.1.2\n",
      "  Downloading aiosignal-1.3.1-py3-none-any.whl (7.6 kB)\n",
      "Installing collected packages: multidict, frozenlist, async-timeout, yarl, aiosignal, aiohttp, openai\n",
      "Successfully installed aiohttp-3.8.4 aiosignal-1.3.1 async-timeout-4.0.2 frozenlist-1.3.3 multidict-6.0.4 openai-0.27.8 yarl-1.9.2\n"
     ]
    }
   ],
   "source": [
    "!pip install openai"
   ]
  },
  {
   "cell_type": "code",
   "execution_count": 78,
   "id": "5d8202e9",
   "metadata": {
    "collapsed": true
   },
   "outputs": [
    {
     "ename": "RateLimitError",
     "evalue": "You exceeded your current quota, please check your plan and billing details.",
     "output_type": "error",
     "traceback": [
      "\u001b[0;31m---------------------------------------------------------------------------\u001b[0m",
      "\u001b[0;31mRateLimitError\u001b[0m                            Traceback (most recent call last)",
      "\u001b[0;32m/var/folders/b5/p9rmdc817y36m0hgtkqmx93m0000gn/T/ipykernel_41814/2694970042.py\u001b[0m in \u001b[0;36m<module>\u001b[0;34m\u001b[0m\n\u001b[1;32m      1\u001b[0m \u001b[0;31m# Generate and print the sub-groups for skills\u001b[0m\u001b[0;34m\u001b[0m\u001b[0;34m\u001b[0m\u001b[0m\n\u001b[0;32m----> 2\u001b[0;31m \u001b[0msub_groups\u001b[0m \u001b[0;34m=\u001b[0m \u001b[0mgenerate_responses\u001b[0m\u001b[0;34m(\u001b[0m\u001b[0mskills\u001b[0m\u001b[0;34m)\u001b[0m\u001b[0;34m\u001b[0m\u001b[0;34m\u001b[0m\u001b[0m\n\u001b[0m\u001b[1;32m      3\u001b[0m \u001b[0;32mfor\u001b[0m \u001b[0mskill\u001b[0m\u001b[0;34m,\u001b[0m \u001b[0msub_group\u001b[0m \u001b[0;32min\u001b[0m \u001b[0mzip\u001b[0m\u001b[0;34m(\u001b[0m\u001b[0mskills\u001b[0m\u001b[0;34m,\u001b[0m \u001b[0msub_groups\u001b[0m\u001b[0;34m)\u001b[0m\u001b[0;34m:\u001b[0m\u001b[0;34m\u001b[0m\u001b[0;34m\u001b[0m\u001b[0m\n\u001b[1;32m      4\u001b[0m     \u001b[0mprint\u001b[0m\u001b[0;34m(\u001b[0m\u001b[0;34mf\"{skill}: {sub_group}\"\u001b[0m\u001b[0;34m)\u001b[0m\u001b[0;34m\u001b[0m\u001b[0;34m\u001b[0m\u001b[0m\n",
      "\u001b[0;32m/var/folders/b5/p9rmdc817y36m0hgtkqmx93m0000gn/T/ipykernel_41814/2927961376.py\u001b[0m in \u001b[0;36mgenerate_responses\u001b[0;34m(skills)\u001b[0m\n\u001b[1;32m      8\u001b[0m     \u001b[0mmax_tokens\u001b[0m \u001b[0;34m=\u001b[0m \u001b[0;36m16\u001b[0m  \u001b[0;31m# Set the maximum number of tokens in the response\u001b[0m\u001b[0;34m\u001b[0m\u001b[0;34m\u001b[0m\u001b[0m\n\u001b[1;32m      9\u001b[0m \u001b[0;34m\u001b[0m\u001b[0m\n\u001b[0;32m---> 10\u001b[0;31m     responses = openai.Completion.create(\n\u001b[0m\u001b[1;32m     11\u001b[0m         \u001b[0mengine\u001b[0m\u001b[0;34m=\u001b[0m\u001b[0mmodel\u001b[0m\u001b[0;34m,\u001b[0m\u001b[0;34m\u001b[0m\u001b[0;34m\u001b[0m\u001b[0m\n\u001b[1;32m     12\u001b[0m         \u001b[0mprompt\u001b[0m\u001b[0;34m=\u001b[0m\u001b[0mprompts\u001b[0m\u001b[0;34m,\u001b[0m\u001b[0;34m\u001b[0m\u001b[0;34m\u001b[0m\u001b[0m\n",
      "\u001b[0;32m~/opt/anaconda3/lib/python3.9/site-packages/openai/api_resources/completion.py\u001b[0m in \u001b[0;36mcreate\u001b[0;34m(cls, *args, **kwargs)\u001b[0m\n\u001b[1;32m     23\u001b[0m         \u001b[0;32mwhile\u001b[0m \u001b[0;32mTrue\u001b[0m\u001b[0;34m:\u001b[0m\u001b[0;34m\u001b[0m\u001b[0;34m\u001b[0m\u001b[0m\n\u001b[1;32m     24\u001b[0m             \u001b[0;32mtry\u001b[0m\u001b[0;34m:\u001b[0m\u001b[0;34m\u001b[0m\u001b[0;34m\u001b[0m\u001b[0m\n\u001b[0;32m---> 25\u001b[0;31m                 \u001b[0;32mreturn\u001b[0m \u001b[0msuper\u001b[0m\u001b[0;34m(\u001b[0m\u001b[0;34m)\u001b[0m\u001b[0;34m.\u001b[0m\u001b[0mcreate\u001b[0m\u001b[0;34m(\u001b[0m\u001b[0;34m*\u001b[0m\u001b[0margs\u001b[0m\u001b[0;34m,\u001b[0m \u001b[0;34m**\u001b[0m\u001b[0mkwargs\u001b[0m\u001b[0;34m)\u001b[0m\u001b[0;34m\u001b[0m\u001b[0;34m\u001b[0m\u001b[0m\n\u001b[0m\u001b[1;32m     26\u001b[0m             \u001b[0;32mexcept\u001b[0m \u001b[0mTryAgain\u001b[0m \u001b[0;32mas\u001b[0m \u001b[0me\u001b[0m\u001b[0;34m:\u001b[0m\u001b[0;34m\u001b[0m\u001b[0;34m\u001b[0m\u001b[0m\n\u001b[1;32m     27\u001b[0m                 \u001b[0;32mif\u001b[0m \u001b[0mtimeout\u001b[0m \u001b[0;32mis\u001b[0m \u001b[0;32mnot\u001b[0m \u001b[0;32mNone\u001b[0m \u001b[0;32mand\u001b[0m \u001b[0mtime\u001b[0m\u001b[0;34m.\u001b[0m\u001b[0mtime\u001b[0m\u001b[0;34m(\u001b[0m\u001b[0;34m)\u001b[0m \u001b[0;34m>\u001b[0m \u001b[0mstart\u001b[0m \u001b[0;34m+\u001b[0m \u001b[0mtimeout\u001b[0m\u001b[0;34m:\u001b[0m\u001b[0;34m\u001b[0m\u001b[0;34m\u001b[0m\u001b[0m\n",
      "\u001b[0;32m~/opt/anaconda3/lib/python3.9/site-packages/openai/api_resources/abstract/engine_api_resource.py\u001b[0m in \u001b[0;36mcreate\u001b[0;34m(cls, api_key, api_base, api_type, request_id, api_version, organization, **params)\u001b[0m\n\u001b[1;32m    151\u001b[0m         )\n\u001b[1;32m    152\u001b[0m \u001b[0;34m\u001b[0m\u001b[0m\n\u001b[0;32m--> 153\u001b[0;31m         response, _, api_key = requestor.request(\n\u001b[0m\u001b[1;32m    154\u001b[0m             \u001b[0;34m\"post\"\u001b[0m\u001b[0;34m,\u001b[0m\u001b[0;34m\u001b[0m\u001b[0;34m\u001b[0m\u001b[0m\n\u001b[1;32m    155\u001b[0m             \u001b[0murl\u001b[0m\u001b[0;34m,\u001b[0m\u001b[0;34m\u001b[0m\u001b[0;34m\u001b[0m\u001b[0m\n",
      "\u001b[0;32m~/opt/anaconda3/lib/python3.9/site-packages/openai/api_requestor.py\u001b[0m in \u001b[0;36mrequest\u001b[0;34m(self, method, url, params, headers, files, stream, request_id, request_timeout)\u001b[0m\n\u001b[1;32m    296\u001b[0m             \u001b[0mrequest_timeout\u001b[0m\u001b[0;34m=\u001b[0m\u001b[0mrequest_timeout\u001b[0m\u001b[0;34m,\u001b[0m\u001b[0;34m\u001b[0m\u001b[0;34m\u001b[0m\u001b[0m\n\u001b[1;32m    297\u001b[0m         )\n\u001b[0;32m--> 298\u001b[0;31m         \u001b[0mresp\u001b[0m\u001b[0;34m,\u001b[0m \u001b[0mgot_stream\u001b[0m \u001b[0;34m=\u001b[0m \u001b[0mself\u001b[0m\u001b[0;34m.\u001b[0m\u001b[0m_interpret_response\u001b[0m\u001b[0;34m(\u001b[0m\u001b[0mresult\u001b[0m\u001b[0;34m,\u001b[0m \u001b[0mstream\u001b[0m\u001b[0;34m)\u001b[0m\u001b[0;34m\u001b[0m\u001b[0;34m\u001b[0m\u001b[0m\n\u001b[0m\u001b[1;32m    299\u001b[0m         \u001b[0;32mreturn\u001b[0m \u001b[0mresp\u001b[0m\u001b[0;34m,\u001b[0m \u001b[0mgot_stream\u001b[0m\u001b[0;34m,\u001b[0m \u001b[0mself\u001b[0m\u001b[0;34m.\u001b[0m\u001b[0mapi_key\u001b[0m\u001b[0;34m\u001b[0m\u001b[0;34m\u001b[0m\u001b[0m\n\u001b[1;32m    300\u001b[0m \u001b[0;34m\u001b[0m\u001b[0m\n",
      "\u001b[0;32m~/opt/anaconda3/lib/python3.9/site-packages/openai/api_requestor.py\u001b[0m in \u001b[0;36m_interpret_response\u001b[0;34m(self, result, stream)\u001b[0m\n\u001b[1;32m    698\u001b[0m         \u001b[0;32melse\u001b[0m\u001b[0;34m:\u001b[0m\u001b[0;34m\u001b[0m\u001b[0;34m\u001b[0m\u001b[0m\n\u001b[1;32m    699\u001b[0m             return (\n\u001b[0;32m--> 700\u001b[0;31m                 self._interpret_response_line(\n\u001b[0m\u001b[1;32m    701\u001b[0m                     \u001b[0mresult\u001b[0m\u001b[0;34m.\u001b[0m\u001b[0mcontent\u001b[0m\u001b[0;34m.\u001b[0m\u001b[0mdecode\u001b[0m\u001b[0;34m(\u001b[0m\u001b[0;34m\"utf-8\"\u001b[0m\u001b[0;34m)\u001b[0m\u001b[0;34m,\u001b[0m\u001b[0;34m\u001b[0m\u001b[0;34m\u001b[0m\u001b[0m\n\u001b[1;32m    702\u001b[0m                     \u001b[0mresult\u001b[0m\u001b[0;34m.\u001b[0m\u001b[0mstatus_code\u001b[0m\u001b[0;34m,\u001b[0m\u001b[0;34m\u001b[0m\u001b[0;34m\u001b[0m\u001b[0m\n",
      "\u001b[0;32m~/opt/anaconda3/lib/python3.9/site-packages/openai/api_requestor.py\u001b[0m in \u001b[0;36m_interpret_response_line\u001b[0;34m(self, rbody, rcode, rheaders, stream)\u001b[0m\n\u001b[1;32m    761\u001b[0m         \u001b[0mstream_error\u001b[0m \u001b[0;34m=\u001b[0m \u001b[0mstream\u001b[0m \u001b[0;32mand\u001b[0m \u001b[0;34m\"error\"\u001b[0m \u001b[0;32min\u001b[0m \u001b[0mresp\u001b[0m\u001b[0;34m.\u001b[0m\u001b[0mdata\u001b[0m\u001b[0;34m\u001b[0m\u001b[0;34m\u001b[0m\u001b[0m\n\u001b[1;32m    762\u001b[0m         \u001b[0;32mif\u001b[0m \u001b[0mstream_error\u001b[0m \u001b[0;32mor\u001b[0m \u001b[0;32mnot\u001b[0m \u001b[0;36m200\u001b[0m \u001b[0;34m<=\u001b[0m \u001b[0mrcode\u001b[0m \u001b[0;34m<\u001b[0m \u001b[0;36m300\u001b[0m\u001b[0;34m:\u001b[0m\u001b[0;34m\u001b[0m\u001b[0;34m\u001b[0m\u001b[0m\n\u001b[0;32m--> 763\u001b[0;31m             raise self.handle_error_response(\n\u001b[0m\u001b[1;32m    764\u001b[0m                 \u001b[0mrbody\u001b[0m\u001b[0;34m,\u001b[0m \u001b[0mrcode\u001b[0m\u001b[0;34m,\u001b[0m \u001b[0mresp\u001b[0m\u001b[0;34m.\u001b[0m\u001b[0mdata\u001b[0m\u001b[0;34m,\u001b[0m \u001b[0mrheaders\u001b[0m\u001b[0;34m,\u001b[0m \u001b[0mstream_error\u001b[0m\u001b[0;34m=\u001b[0m\u001b[0mstream_error\u001b[0m\u001b[0;34m\u001b[0m\u001b[0;34m\u001b[0m\u001b[0m\n\u001b[1;32m    765\u001b[0m             )\n",
      "\u001b[0;31mRateLimitError\u001b[0m: You exceeded your current quota, please check your plan and billing details."
     ]
    }
   ],
   "source": [
    "import openai\n",
    "import yaml\n",
    "\n",
    "# store the secret information about your openai api key in a yaml file\n",
    "file_path = 'openai_api.yaml'\n",
    "with open(file_path, 'r') as file:\n",
    "    secrets = yaml.safe_load(file)\n",
    "    \n",
    "# Set up authentication\n",
    "openai.api_key = secrets['Secret Key']\n",
    "\n",
    "# Define the skills list\n",
    "skills = list(other_skills_count.keys())\n",
    "\n",
    "# Generate informed responses using OpenAI API\n",
    "def generate_responses(skills):\n",
    "    prompts = [f\"What are the relevant sub-groups for {skill}?\" for skill in skills]\n",
    "    model = \"gpt-3.5-turbo\"  # You can use other GPT models as well\n",
    "    max_tokens = 300  # Set the maximum number of tokens in the response\n",
    "\n",
    "    responses = openai.Completion.create(\n",
    "        engine=model,\n",
    "        prompt=prompts,\n",
    "        max_tokens=max_tokens,\n",
    "        n=1,  # Generate a single response for each prompt\n",
    "        stop=None,\n",
    "        temperature=0.4,\n",
    "        top_p=1.0,\n",
    "        frequency_penalty=0.0,\n",
    "        presence_penalty=0.0\n",
    "    )\n",
    "\n",
    "    sub_groups = []\n",
    "    for choice in responses.choices:\n",
    "        text = choice.text.strip().split('\\n')[0]  # Extract the first line of the response\n",
    "        sub_groups.append(text)\n",
    "\n",
    "    return sub_groups\n",
    "\n",
    "\n",
    "# Generate and print the sub-groups for skills\n",
    "sub_groups = generate_responses(skills)\n",
    "for skill, sub_group in zip(skills, sub_groups):\n",
    "    print(f\"{skill}: {sub_group}\")"
   ]
  },
  {
   "cell_type": "code",
   "execution_count": 74,
   "id": "ce40186a",
   "metadata": {},
   "outputs": [
    {
     "ename": "NameError",
     "evalue": "name 'sub_groups' is not defined",
     "output_type": "error",
     "traceback": [
      "\u001b[0;31m---------------------------------------------------------------------------\u001b[0m",
      "\u001b[0;31mNameError\u001b[0m                                 Traceback (most recent call last)",
      "\u001b[0;32m/var/folders/b5/p9rmdc817y36m0hgtkqmx93m0000gn/T/ipykernel_41814/1448566425.py\u001b[0m in \u001b[0;36m<module>\u001b[0;34m\u001b[0m\n\u001b[0;32m----> 1\u001b[0;31m \u001b[0msub_groups\u001b[0m\u001b[0;34m\u001b[0m\u001b[0;34m\u001b[0m\u001b[0m\n\u001b[0m",
      "\u001b[0;31mNameError\u001b[0m: name 'sub_groups' is not defined"
     ]
    }
   ],
   "source": []
  },
  {
   "cell_type": "code",
   "execution_count": null,
   "id": "8c620a30",
   "metadata": {},
   "outputs": [],
   "source": []
  }
 ],
 "metadata": {
  "kernelspec": {
   "display_name": "Python 3 (ipykernel)",
   "language": "python",
   "name": "python3"
  },
  "language_info": {
   "codemirror_mode": {
    "name": "ipython",
    "version": 3
   },
   "file_extension": ".py",
   "mimetype": "text/x-python",
   "name": "python",
   "nbconvert_exporter": "python",
   "pygments_lexer": "ipython3",
   "version": "3.9.13"
  }
 },
 "nbformat": 4,
 "nbformat_minor": 5
}
