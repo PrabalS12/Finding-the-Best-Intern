{
 "cells": [
  {
   "cell_type": "code",
   "execution_count": 336,
   "id": "5d8c464e",
   "metadata": {},
   "outputs": [],
   "source": [
    "import numpy as np\n",
    "import pandas as pd\n",
    "import matplotlib.pyplot as plt\n",
    "import seaborn as sns\n",
    "import re\n",
    "import gensim\n",
    "from nltk import sent_tokenize\n",
    "from gensim.utils import simple_preprocess\n",
    "from gensim.models.doc2vec import Doc2Vec, TaggedDocument"
   ]
  },
  {
   "cell_type": "code",
   "execution_count": 337,
   "id": "d1934ede",
   "metadata": {},
   "outputs": [],
   "source": [
    "resume_data = pd.read_csv('/Users/prabalsingh/Downloads/UpdatedResumeDataSet.csv')"
   ]
  },
  {
   "cell_type": "code",
   "execution_count": 338,
   "id": "d7d9eaa8",
   "metadata": {},
   "outputs": [
    {
     "data": {
      "text/html": [
       "<div>\n",
       "<style scoped>\n",
       "    .dataframe tbody tr th:only-of-type {\n",
       "        vertical-align: middle;\n",
       "    }\n",
       "\n",
       "    .dataframe tbody tr th {\n",
       "        vertical-align: top;\n",
       "    }\n",
       "\n",
       "    .dataframe thead th {\n",
       "        text-align: right;\n",
       "    }\n",
       "</style>\n",
       "<table border=\"1\" class=\"dataframe\">\n",
       "  <thead>\n",
       "    <tr style=\"text-align: right;\">\n",
       "      <th></th>\n",
       "      <th>Category</th>\n",
       "      <th>Resume</th>\n",
       "    </tr>\n",
       "  </thead>\n",
       "  <tbody>\n",
       "    <tr>\n",
       "      <th>0</th>\n",
       "      <td>Data Science</td>\n",
       "      <td>Skills * Programming Languages: Python (pandas...</td>\n",
       "    </tr>\n",
       "    <tr>\n",
       "      <th>1</th>\n",
       "      <td>Data Science</td>\n",
       "      <td>Education Details \\r\\nMay 2013 to May 2017 B.E...</td>\n",
       "    </tr>\n",
       "    <tr>\n",
       "      <th>2</th>\n",
       "      <td>Data Science</td>\n",
       "      <td>Areas of Interest Deep Learning, Control Syste...</td>\n",
       "    </tr>\n",
       "    <tr>\n",
       "      <th>3</th>\n",
       "      <td>Data Science</td>\n",
       "      <td>Skills â¢ R â¢ Python â¢ SAP HANA â¢ Table...</td>\n",
       "    </tr>\n",
       "    <tr>\n",
       "      <th>4</th>\n",
       "      <td>Data Science</td>\n",
       "      <td>Education Details \\r\\n MCA   YMCAUST,  Faridab...</td>\n",
       "    </tr>\n",
       "    <tr>\n",
       "      <th>...</th>\n",
       "      <td>...</td>\n",
       "      <td>...</td>\n",
       "    </tr>\n",
       "    <tr>\n",
       "      <th>957</th>\n",
       "      <td>Testing</td>\n",
       "      <td>Computer Skills: â¢ Proficient in MS office (...</td>\n",
       "    </tr>\n",
       "    <tr>\n",
       "      <th>958</th>\n",
       "      <td>Testing</td>\n",
       "      <td>â Willingness to accept the challenges. â ...</td>\n",
       "    </tr>\n",
       "    <tr>\n",
       "      <th>959</th>\n",
       "      <td>Testing</td>\n",
       "      <td>PERSONAL SKILLS â¢ Quick learner, â¢ Eagerne...</td>\n",
       "    </tr>\n",
       "    <tr>\n",
       "      <th>960</th>\n",
       "      <td>Testing</td>\n",
       "      <td>COMPUTER SKILLS &amp; SOFTWARE KNOWLEDGE MS-Power ...</td>\n",
       "    </tr>\n",
       "    <tr>\n",
       "      <th>961</th>\n",
       "      <td>Testing</td>\n",
       "      <td>Skill Set OS Windows XP/7/8/8.1/10 Database MY...</td>\n",
       "    </tr>\n",
       "  </tbody>\n",
       "</table>\n",
       "<p>962 rows × 2 columns</p>\n",
       "</div>"
      ],
      "text/plain": [
       "         Category                                             Resume\n",
       "0    Data Science  Skills * Programming Languages: Python (pandas...\n",
       "1    Data Science  Education Details \\r\\nMay 2013 to May 2017 B.E...\n",
       "2    Data Science  Areas of Interest Deep Learning, Control Syste...\n",
       "3    Data Science  Skills â¢ R â¢ Python â¢ SAP HANA â¢ Table...\n",
       "4    Data Science  Education Details \\r\\n MCA   YMCAUST,  Faridab...\n",
       "..            ...                                                ...\n",
       "957       Testing  Computer Skills: â¢ Proficient in MS office (...\n",
       "958       Testing  â Willingness to accept the challenges. â ...\n",
       "959       Testing  PERSONAL SKILLS â¢ Quick learner, â¢ Eagerne...\n",
       "960       Testing  COMPUTER SKILLS & SOFTWARE KNOWLEDGE MS-Power ...\n",
       "961       Testing  Skill Set OS Windows XP/7/8/8.1/10 Database MY...\n",
       "\n",
       "[962 rows x 2 columns]"
      ]
     },
     "execution_count": 338,
     "metadata": {},
     "output_type": "execute_result"
    }
   ],
   "source": [
    "resume_data"
   ]
  },
  {
   "cell_type": "markdown",
   "id": "a5051677",
   "metadata": {},
   "source": [
    "# Data Cleaning"
   ]
  },
  {
   "cell_type": "code",
   "execution_count": 339,
   "id": "914528fc",
   "metadata": {
    "scrolled": false
   },
   "outputs": [],
   "source": [
    "def cleanResume(resumeText):\n",
    "    resumeText = re.sub('http\\S+\\s*', ' ', resumeText)  # remove URLs\n",
    "    resumeText = re.sub('RT|cc', ' ', resumeText)  # remove RT and cc\n",
    "    resumeText = re.sub('#\\S+', '', resumeText)  # remove hashtags\n",
    "    resumeText = re.sub('@\\S+', '  ', resumeText)  # remove mentions\n",
    "    resumeText = re.sub('[%s]' % re.escape(\"\"\"!\"#$%&'()*+,-/.:;<=>?@[\\]^_`{|}~\"\"\"), ' ', resumeText)  # remove punctuations\n",
    "    resumeText = re.sub(r'[^\\x00-\\x7f]',r' ', resumeText) \n",
    "    resumeText = re.sub('\\s+', ' ', resumeText)  # remove extra whitespace\n",
    "    return resumeText"
   ]
  },
  {
   "cell_type": "code",
   "execution_count": 340,
   "id": "89a08b24",
   "metadata": {},
   "outputs": [],
   "source": [
    "resume_data['Cleaned_Resume'] = resume_data['Resume'].apply(lambda x:cleanResume(x))"
   ]
  },
  {
   "cell_type": "code",
   "execution_count": 341,
   "id": "7fe2a046",
   "metadata": {},
   "outputs": [],
   "source": [
    "#category_unique = list(resume_data['Category'].unique())\n",
    "\n",
    "#category_unique"
   ]
  },
  {
   "cell_type": "markdown",
   "id": "ad1551f0",
   "metadata": {},
   "source": [
    "# Based on relevant roles closer to required skills of ML/NLP/DL/Python"
   ]
  },
  {
   "cell_type": "code",
   "execution_count": 342,
   "id": "3142e8e1",
   "metadata": {},
   "outputs": [],
   "source": [
    "categories_to_filter = ['Data Science','Business Analyst','Python Developer', 'Database', 'DevOps Engineer', 'Hadoop']\n",
    "resume_data = resume_data[resume_data['Category'].isin(categories_to_filter)]"
   ]
  },
  {
   "cell_type": "code",
   "execution_count": 343,
   "id": "6c83c4c8",
   "metadata": {},
   "outputs": [],
   "source": [
    "cat_groups = resume_data.groupby(['Category']) "
   ]
  },
  {
   "cell_type": "markdown",
   "id": "9df4f599",
   "metadata": {},
   "source": [
    "<b>developing a raw corpus</b>"
   ]
  },
  {
   "cell_type": "code",
   "execution_count": 344,
   "id": "afc4f141",
   "metadata": {},
   "outputs": [],
   "source": [
    "raw_corpus = []\n",
    "for i in categories_to_filter:\n",
    "    raw_corpus.append(\n",
    "        ''.join([indvidual_resumes for indvidual_resumes in list(cat_groups.get_group(i)['Cleaned_Resume'])]))"
   ]
  },
  {
   "cell_type": "markdown",
   "id": "0b7e5b1e",
   "metadata": {},
   "source": [
    "<b>final clean corpus</b>"
   ]
  },
  {
   "cell_type": "code",
   "execution_count": 345,
   "id": "a8df2605",
   "metadata": {},
   "outputs": [],
   "source": [
    "def tagged_docs(raw_corpus, categories_to_filter):\n",
    "    for cnt,i in enumerate(categories_to_filter):\n",
    "        doc = raw_corpus[cnt].lower()\n",
    "        yield(TaggedDocument(doc.split(), tags=[i]))\n",
    "        \n",
    "corpus = list(tagged_docs(raw_corpus,categories_to_filter))"
   ]
  },
  {
   "cell_type": "markdown",
   "id": "20c52240",
   "metadata": {},
   "source": [
    "# Model Development (Doc2Vec)\n",
    "<b> results are exceedingly satisfactory, performance could be further improved with more data and more fine tuning</b>"
   ]
  },
  {
   "cell_type": "code",
   "execution_count": 346,
   "id": "5c0236b1",
   "metadata": {},
   "outputs": [],
   "source": [
    "model = gensim.models.doc2vec.Doc2Vec(vector_size=150, min_count=7, epochs=80)\n",
    "\n",
    "model.build_vocab(corpus)\n",
    "\n",
    "model.train(corpus, total_examples=model.corpus_count, epochs=model.epochs)"
   ]
  },
  {
   "cell_type": "code",
   "execution_count": 347,
   "id": "afc78001",
   "metadata": {},
   "outputs": [
    {
     "name": "stderr",
     "output_type": "stream",
     "text": [
      "/var/folders/b5/p9rmdc817y36m0hgtkqmx93m0000gn/T/ipykernel_51582/2705452465.py:2: DeprecationWarning: Call to deprecated `docvecs` (The `docvecs` property has been renamed `dv`.).\n",
      "  model.docvecs.most_similar('Data Science')\n"
     ]
    },
    {
     "data": {
      "text/plain": [
       "[('Python Developer', 0.6030455827713013),\n",
       " ('Business Analyst', 0.5907436609268188),\n",
       " ('Hadoop', 0.5851280689239502),\n",
       " ('Database', 0.5682947039604187),\n",
       " ('DevOps Engineer', 0.5440165400505066)]"
      ]
     },
     "execution_count": 347,
     "metadata": {},
     "output_type": "execute_result"
    }
   ],
   "source": [
    "# job resumes most similar to Data Science Roles\n",
    "model.docvecs.most_similar('Data Science')"
   ]
  },
  {
   "cell_type": "markdown",
   "id": "e57382f4",
   "metadata": {},
   "source": [
    "# Example"
   ]
  },
  {
   "cell_type": "code",
   "execution_count": 348,
   "id": "f3497bac",
   "metadata": {},
   "outputs": [],
   "source": [
    "def preprocess(unseen):\n",
    "    unseen = cleanResume(unseen).lower().split()\n",
    "    return unseen"
   ]
  },
  {
   "cell_type": "code",
   "execution_count": 349,
   "id": "7e1e3e6b",
   "metadata": {},
   "outputs": [],
   "source": [
    "# Other skills in the company provided dataset\n",
    "unseen_doc = 'Bootstrap, C Programming, C++ Programming, CSS, Computer Networks, Data Analytics, Data Science, Data Structures, Database Management System (DBMS), Deep Learning, Django, English Proficiency (Spoken), English Proficiency (Written), Git, Git Bash, HTML, Hindi Proficiency (Spoken), Java, Machine Learning, Microsoft Azure, Python, SQL, Computer Vision, Image Processing, JSP, JavaScript, MATLAB, MySQL, PHP, Servlets, Visual Basic (VB), XML'"
   ]
  },
  {
   "cell_type": "code",
   "execution_count": 350,
   "id": "2ec6de70",
   "metadata": {},
   "outputs": [
    {
     "name": "stderr",
     "output_type": "stream",
     "text": [
      "/var/folders/b5/p9rmdc817y36m0hgtkqmx93m0000gn/T/ipykernel_51582/2710693459.py:3: DeprecationWarning: Call to deprecated `docvecs` (The `docvecs` property has been renamed `dv`.).\n",
      "  model.docvecs.most_similar([inferred_vector])\n"
     ]
    },
    {
     "data": {
      "text/plain": [
       "[('Data Science', 0.2650614082813263),\n",
       " ('Python Developer', 0.20749686658382416),\n",
       " ('DevOps Engineer', 0.18713609874248505),\n",
       " ('Hadoop', 0.1814700961112976),\n",
       " ('Business Analyst', 0.13544459640979767),\n",
       " ('Database', 0.036313220858573914)]"
      ]
     },
     "execution_count": 350,
     "metadata": {},
     "output_type": "execute_result"
    }
   ],
   "source": [
    "preprocessed_doc = preprocess(unseen_doc)\n",
    "inferred_vector = model.infer_vector(preprocessed_doc)\n",
    "model.docvecs.most_similar([inferred_vector])"
   ]
  },
  {
   "cell_type": "markdown",
   "id": "8cc69008",
   "metadata": {},
   "source": [
    "# Model Save"
   ]
  },
  {
   "cell_type": "code",
   "execution_count": 351,
   "id": "6ce6a703",
   "metadata": {},
   "outputs": [
    {
     "name": "stdout",
     "output_type": "stream",
     "text": [
      "Doc2Vec model saved as pickle successfully.\n"
     ]
    }
   ],
   "source": [
    "import pickle\n",
    "\n",
    "trained_model = model  # trained Doc2Vec model object\n",
    "\n",
    "pickle_filepath = 'Digipplus Assignment/Doc2Vec_SkillScreen.pkl'\n",
    "\n",
    "# Save the model using pickle\n",
    "with open(pickle_filepath, 'wb') as f:\n",
    "    pickle.dump(trained_model, f)\n",
    "\n",
    "print(\"Doc2Vec model saved as pickle successfully.\")"
   ]
  }
 ],
 "metadata": {
  "kernelspec": {
   "display_name": "Python 3 (ipykernel)",
   "language": "python",
   "name": "python3"
  },
  "language_info": {
   "codemirror_mode": {
    "name": "ipython",
    "version": 3
   },
   "file_extension": ".py",
   "mimetype": "text/x-python",
   "name": "python",
   "nbconvert_exporter": "python",
   "pygments_lexer": "ipython3",
   "version": "3.9.13"
  }
 },
 "nbformat": 4,
 "nbformat_minor": 5
}
